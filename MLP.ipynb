{
 "cells": [
  {
   "cell_type": "markdown",
   "metadata": {},
   "source": [
    "# Multi-Layer Perceptron"
   ]
  },
  {
   "cell_type": "code",
   "execution_count": 1,
   "metadata": {},
   "outputs": [],
   "source": [
    "import numpy as np\n",
    "import matplotlib.pyplot as plt\n",
    "%matplotlib qt"
   ]
  },
  {
   "cell_type": "code",
   "execution_count": 2,
   "metadata": {},
   "outputs": [],
   "source": [
    "class MLP:\n",
    "    \n",
    "    def __init__(self, shape, alpha):\n",
    "        self.shape = shape\n",
    "        self.network_size = len(shape) - 1\n",
    "        self.init_weights()\n",
    "        self.alpha = alpha\n",
    "        \n",
    "    def init_weights(self):\n",
    "        bias = []\n",
    "        weights = []\n",
    "        for i in range(0, self.network_size):        \n",
    "            weights.append(np.random.normal(size=(self.shape[i+1],self.shape[i])))\n",
    "            bias.append(np.random.normal(size=self.shape[i+1]))\n",
    "        self.w = weights\n",
    "        self.b = bias\n",
    "\n",
    "    def linear_function(self, x, index):\n",
    "        return np.dot(x,self.w[index].T) + self.b[index]\n",
    "    \n",
    "    @staticmethod\n",
    "    def sigmoid(z):\n",
    "        return 1/(1 + np.exp(-z))\n",
    "    \n",
    "    @staticmethod\n",
    "    def dsigmoid(z):\n",
    "        return z*(1 - z)\n",
    "    \n",
    "    @staticmethod\n",
    "    def net_error(tar, out):\n",
    "        return np.mean(np.power(tar - out, 2))\n",
    "    \n",
    "    def activation_function(self, x, index):\n",
    "        linear_f = self.linear_function(x, index)\n",
    "        return self.sigmoid(linear_f)\n",
    "    \n",
    "    def feed_forward(self, x):\n",
    "        self.a = []\n",
    "        \n",
    "        for i in range(self.network_size):\n",
    "            if i == 0:\n",
    "                z = np.dot(x, self.w[i].T) + self.b[i]\n",
    "            else:\n",
    "                z = np.dot(self.a[i-1], self.w[i].T) + self.b[i]\n",
    "                \n",
    "            self.a.append(self.sigmoid(z))\n",
    "        \n",
    "        return self.a[-1]\n",
    "    \n",
    "    def bp(self, x, target):\n",
    "        # Error calculs\n",
    "        err = []\n",
    "        _x = np.reshape(x, (len(x),1))\n",
    "\n",
    "        for i in reversed(range(self.network_size)):\n",
    "            dsig = self.dsigmoid(self.a[i])\n",
    "            if i == self.network_size - 1:\n",
    "                delta = -(target - self.a[i])\n",
    "                err.append(delta*dsig)\n",
    "            else: \n",
    "                err.append(np.dot(err[-1], self.w[i+1])*dsig)\n",
    "                \n",
    "        err = err[::-1]\n",
    "             \n",
    "        for i in range(self.network_size):\n",
    "            if i == 0:\n",
    "                _err = np.reshape(err[i], (len(err[i]), 1))\n",
    "                self.w[i] = self.w[i] - self.alpha * np.dot(_err, _x.T)\n",
    "                self.b[i] = self.b[i] - self.alpha * err[i]\n",
    "            else:\n",
    "                _err = np.reshape(err[i], (len(err[i]), 1))\n",
    "                _a = np.reshape(self.a[i-1], (len(self.a[i-1]),1))\n",
    "                self.w[i] = self.w[i] - self.alpha * np.dot(_err, _a.T)\n",
    "                self.b[i] = self.b[i] - self.alpha * err[i]\n",
    "            \n",
    "    def train(self, epochs, train_inputs, train_outputs):\n",
    "        train_err = []\n",
    "        \n",
    "        for epoch in range(epochs):\n",
    "            count = 0\n",
    "            err = 0\n",
    "                \n",
    "            for x in train_inputs:\n",
    "                out = self.feed_forward(x)\n",
    "                \n",
    "                err += self.net_error(train_outputs[count],out)\n",
    "                self.bp(x, train_outputs[count])\n",
    "                \n",
    "                count += 1\n",
    "                \n",
    "            train_err.append(err/train_inputs.shape[0])\n",
    "                \n",
    "        return train_err\n",
    "    \n",
    "    def predict(self, test_input, test_output):\n",
    "        out = self.feed_forward(test_input)\n",
    "        print(\"prediction : \")\n",
    "        print(self.a[-1])\n",
    "        print(\"target : \")\n",
    "        print(test_output)\n",
    "        print(\"error : \")\n",
    "        print(self.net_error(test_output, out))\n",
    "        \n",
    "    def test(self, test_inputs, test_outputs):\n",
    "        test_err = []\n",
    "        count = 0\n",
    "        err = 0\n",
    "                \n",
    "        for x in test_inputs:\n",
    "            out = self.feed_forward(x)\n",
    "\n",
    "            test_err.append(self.net_error(test_outputs[count],out))\n",
    "\n",
    "            count += 1\n",
    "\n",
    "#         test_err.append(err/test_inputs.shape[0])\n",
    "                \n",
    "        return test_err"
   ]
  },
  {
   "cell_type": "code",
   "execution_count": 3,
   "metadata": {},
   "outputs": [],
   "source": [
    "def graph_error(err_vector):\n",
    "\n",
    "    plt.figure(0)\n",
    "    plt.plot(err_vector)\n",
    "    plt.xlabel('Epochs')\n",
    "    plt.ylabel('Error')\n",
    "    plt.title('BP algorithm')\n",
    "    plt.show()\n",
    "    \n",
    "def graph_test_error(err_vector):\n",
    "    mean = [np.mean(err_vector)]*len(err_vector)\n",
    "    plt.figure(0)\n",
    "    plt.plot(err_vector)\n",
    "    plt.plot(mean, label='Mean', linestyle='--')\n",
    "    plt.xlabel('inputs')\n",
    "    plt.ylabel('Error')\n",
    "    plt.title('test error')\n",
    "    plt.show()"
   ]
  },
  {
   "cell_type": "markdown",
   "metadata": {},
   "source": [
    "# XOR learning"
   ]
  },
  {
   "cell_type": "code",
   "execution_count": 4,
   "metadata": {
    "scrolled": true
   },
   "outputs": [
    {
     "data": {
      "image/png": "[encoded data removed]",
      "text/plain": [
       "<Figure size 432x288 with 1 Axes>"
      ]
     },
     "metadata": {
      "needs_background": "light"
     },
     "output_type": "display_data"
    }
   ],
   "source": [
    "mlp = MLP([2,3,3,1], 0.5)\n",
    "target = np.array([[0], [1], [1], [0]])\n",
    "inputs = np.array([[0,0],[0,1],[1,0],[1,1]])\n",
    "err = mlp.train(8000, inputs, target)\n",
    "graph_error(err)"
   ]
  },
  {
   "cell_type": "markdown",
   "metadata": {},
   "source": [
    "# Iris dataset learning"
   ]
  },
  {
   "cell_type": "code",
   "execution_count": 10,
   "metadata": {},
   "outputs": [],
   "source": [
    "def get_dataset():\n",
    "    f = open(\"./iris_data/iris.data\")\n",
    "    \n",
    "    lines = f.readlines()\n",
    "    f.close()\n",
    "    \n",
    "    np.random.shuffle(lines)\n",
    "    input = []\n",
    "    output = []\n",
    "    training_set = {}\n",
    "    testing_set = {}\n",
    "    for line in lines:\n",
    "        if(len(line) > 1):\n",
    "            x_0, x_1, x_2, x_3, y = line.replace('\\n','').split(',')\n",
    "            input.append([float(x_0),float(x_1),float(x_2),float(x_3)])\n",
    "            \n",
    "            if y == 'Iris-setosa':\n",
    "                output.append([1,0,0])\n",
    "            if y == 'Iris-versicolor':\n",
    "                output.append([0,1,0])\n",
    "            if y == 'Iris-virginica':\n",
    "                output.append([0,0,1])\n",
    "            \n",
    "            training_set = {\n",
    "                'input': np.array(input[0:120]),\n",
    "                'output': np.array(output[0:120])\n",
    "            }\n",
    "            \n",
    "            testing_set =  {\n",
    "                'input': np.array(input[121:151]),\n",
    "                'output': np.array(output[121:151])\n",
    "            }\n",
    "            \n",
    "    return (training_set, testing_set)"
   ]
  },
  {
   "cell_type": "code",
   "execution_count": 11,
   "metadata": {},
   "outputs": [],
   "source": [
    "iris_mlp = MLP([4,3,3], 0.05)\n",
    "training_set, testing_set = get_dataset()"
   ]
  },
  {
   "cell_type": "code",
   "execution_count": 12,
   "metadata": {},
   "outputs": [
    {
     "data": {
      "image/png": "[encoded data removed]",
      "text/plain": [
       "<Figure size 432x288 with 1 Axes>"
      ]
     },
     "metadata": {
      "needs_background": "light"
     },
     "output_type": "display_data"
    }
   ],
   "source": [
    "err = iris_mlp.train(2000, training_set['input'], training_set['output'])\n",
    "graph_error(err)"
   ]
  },
  {
   "cell_type": "markdown",
   "metadata": {},
   "source": [
    "# Random prediction"
   ]
  },
  {
   "cell_type": "code",
   "execution_count": 13,
   "metadata": {},
   "outputs": [
    {
     "name": "stdout",
     "output_type": "stream",
     "text": [
      "prediction : \n",
      "[0.01013562 0.93591528 0.06051711]\n",
      "target : \n",
      "[0 1 0]\n",
      "error : \n",
      "0.0026239673824354957\n"
     ]
    }
   ],
   "source": [
    "iris_mlp.predict(testing_set['input'][1], testing_set['output'][1])"
   ]
  },
  {
   "cell_type": "markdown",
   "metadata": {},
   "source": [
    "# Test error"
   ]
  },
  {
   "cell_type": "code",
   "execution_count": 14,
   "metadata": {},
   "outputs": [
    {
     "data": {
      "image/png": "[encoded data removed]",
      "text/plain": [
       "<Figure size 432x288 with 1 Axes>"
      ]
     },
     "metadata": {
      "needs_background": "light"
     },
     "output_type": "display_data"
    }
   ],
   "source": [
    "test_err = iris_mlp.test(testing_set['input'], testing_set['output'])\n",
    "graph_test_error(test_err)"
   ]
  },
  {
   "cell_type": "code",
   "execution_count": null,
   "metadata": {},
   "outputs": [],
   "source": []
  }
 ],
 "metadata": {
  "kernelspec": {
   "display_name": "Python 3",
   "language": "python",
   "name": "python3"
  },
  "language_info": {
   "codemirror_mode": {
    "name": "ipython",
    "version": 3
   },
   "file_extension": ".py",
   "mimetype": "text/x-python",
   "name": "python",
   "nbconvert_exporter": "python",
   "pygments_lexer": "ipython3",
   "version": "3.7.3"
  }
 },
 "nbformat": 4,
 "nbformat_minor": 2
}
